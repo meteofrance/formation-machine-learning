{
 "cells": [
  {
   "cell_type": "markdown",
   "metadata": {},
   "source": [
    "# MNIST en Deep Learning\n",
    "\n",
    "Dans ce TP, nous allons construire des algorithmes de Deep Learning pour tenter de reconnaître des chiffres manuscrits."
   ]
  },
  {
   "cell_type": "markdown",
   "metadata": {},
   "source": [
    "## Chargement des données et transformation"
   ]
  },
  {
   "cell_type": "markdown",
   "metadata": {},
   "source": [
    "Nous allons travailler sur la base de données MNIST qui contient 60000 images en niveaux de grille de résolution 28x28, représentant les 10 chiffres de 0 à 9, ainsi qu'un jeu de test de 10000 images. Tout d'abord, chargeons ce jeu de données."
   ]
  },
  {
   "cell_type": "code",
   "execution_count": null,
   "metadata": {},
   "outputs": [],
   "source": [
    "from torchvision import datasets\n",
    "from torchvision.transforms import ToTensor\n",
    "import torch\n",
    "import torch.nn as nn\n",
    "import torch.optim as optim\n",
    "from torch.utils.data import DataLoader\n",
    "from torchinfo import summary\n",
    "\n",
    "import matplotlib\n",
    "import matplotlib.pyplot as plt\n",
    "import scipy\n",
    "import scipy.ndimage\n",
    "import numpy as np"
   ]
  },
  {
   "cell_type": "markdown",
   "metadata": {},
   "source": [
    "Téléchargement des données"
   ]
  },
  {
   "cell_type": "code",
   "execution_count": null,
   "metadata": {},
   "outputs": [],
   "source": [
    "train_dataset = datasets.MNIST('../data', train=True, transform=ToTensor()\n",
    "test_dataset = datasets.MNIST('../data', train=False, transform=ToTensor())"
   ]
  },
  {
   "cell_type": "markdown",
   "metadata": {},
   "source": [
    "Créer un dataloader et visualiser des images"
   ]
  },
  {
   "cell_type": "code",
   "execution_count": null,
   "metadata": {
    "scrolled": true
   },
   "outputs": [],
   "source": [
    "train_dataloader = DataLoader(train_dataset, batch_size=16)\n",
    "\n",
    "\n",
    "# Parcourez un batch dans le DataLoader\n",
    "for images, labels in train_dataloader:\n",
    "    sample_images = images[:5]  # Les 5 premières images\n",
    "    sample_labels = labels[:5]  # Les 5 premières étiquettes\n",
    "    break  # On prend seulement le premier batch\n",
    "\n",
    "# Affichez les images et leurs étiquettes\n",
    "fig, axes = plt.subplots(1, 5, figsize=(12, 3))\n",
    "\n",
    "for i, ax in enumerate(axes):\n",
    "    ax.imshow(\n",
    "        sample_images[i].squeeze(), cmap=\"gray\"\n",
    "    )  # .squeeze() pour retirer la dimension du canal\n",
    "    ax.set_title(f\"Label: {sample_labels[i].item()}\")\n",
    "    ax.axis(\"off\")\n",
    "\n",
    "plt.tight_layout()\n",
    "plt.show()\n"
   ]
  },
  {
   "cell_type": "markdown",
   "metadata": {},
   "source": [
    "## Construire un premier réseau de neurones"
   ]
  },
  {
   "cell_type": "markdown",
   "metadata": {},
   "source": [
    "Construisons notre premier réseau de neurones.\n",
    "\n",
    "Pour cela, nous allons créer un modèle Pytorch en utilisant la classe nn.Module vu précedemment:\n",
    "* __model = Sequential()__\n",
    "\n",
    "Puis utiliser les méthodes suivantes de Pytroch pour ajouter des couches à ce modèle :\n",
    "\n",
    "* __nn.FLatten__ : on manipule des vecteurs et non des image, on passe de (28,28) -> (784,)\n",
    "* __nn.Linear__ : on ajoute une couche dense (ou linéaire)\n",
    "* __nn.Dropout__ : applique un dropout à la couche, pour éviter le surapprentissage\n",
    "* __nn.ReLu__ : fonction d'activation relu au coeur du réseau\n",
    "* __nn.Softmax__ : en sortie de réseau"
   ]
  },
  {
   "cell_type": "code",
   "execution_count": null,
   "metadata": {},
   "outputs": [],
   "source": [
    "# A COMPLETER\n",
    "\n",
    "# Créer le réseau suivant avec Pytorch :\n",
    "# 784 dimensions en entrée => 12 dense => activation relu => 12 dense => activation relu => dropout 0.5 => 10 sorties (activation softmax)\n",
    "\n",
    "\n",
    "class MyModel(nn.Module):\n",
    "    def __init__(self):\n",
    "        super(MyModel, self).__init__()\n",
    "        # à compléter\n",
    "\n",
    "    def forward(self, x):\n",
    "        # à compléter\n",
    "        return x\n",
    "\n",
    "# Instanciation du modèle\n",
    "model = MyModel()\n",
    "\n",
    "# affichage du résumé di modèle\n",
    "summary(model, imput_size=(28,28,1))"
   ]
  },
  {
   "cell_type": "markdown",
   "metadata": {},
   "source": [
    " On commence par créer une boucle d'entrainement qui va faciliter l'apprentissage de notre modèle sur nos données."
   ]
  },
  {
   "cell_type": "code",
   "execution_count": null,
   "metadata": {},
   "outputs": [],
   "source": [
    "# Défintion de la boucle d'entrainement\n",
    "def train_loop(\n",
    "    train_dataloader: torch.utils.data.DataLoader,\n",
    "    test_dataloader: torch.utils.data.DataLoader,\n",
    "    model: torch.nn.Module,\n",
    "    loss_fn,\n",
    "    optimizer,\n",
    "    epoch: int,\n",
    ")-> dict:\n",
    "    start_time = time.time()\n",
    "\n",
    "    # Apprentissage du modèle\n",
    "    model.train()  # Met le modèle en mode entraînement\n",
    "    train_loss, count = 0.0, 0\n",
    "    for X, y in tqdm(train_dataloader, desc=f\"Train epoch {epoch}\"):\n",
    "        X, y = X.to(device), y.to(device)\n",
    "        \n",
    "        # Prédiction du réseau de neurones\n",
    "        y_hat = model(X)  \n",
    "        # Calcul de l'erreur (y_hat, y)\n",
    "        loss = loss_fn(y_hat, y)  \n",
    "        # Backpropagation (MaJ des poids du réseau)\n",
    "        loss.backward()\n",
    "        optimizer.step()\n",
    "        optimizer.zero_grad()\n",
    "\n",
    "        train_loss += loss.item()\n",
    "        count += X.shape[0]\n",
    "    train_loss /= count\n",
    "\n",
    "    # Test du modèle\n",
    "    model.eval()\n",
    "    with torch.no_grad():\n",
    "        test_loss, count = 0.0, 0\n",
    "        for X, y in tqdm(test_dataloader, desc=f\"Test epoch {epoch}\"):\n",
    "            # Déplacer les données vers le dispositif\n",
    "            X, y = X.to(device), y.to(device)\n",
    "            # Prédiction du réseau de neurones\n",
    "            y_hat = model(X)  \n",
    "            # Calcul de l'erreur (y_hat, y)\n",
    "            loss = loss_fn(y_hat, y)  \n",
    "            test_loss += loss.item()\n",
    "            count += X.shape[0]\n",
    "    test_loss /= count\n",
    "\n",
    "    elapsed_time = time.time() - start_time\n",
    "    print(\n",
    "        f\"Epoch {epoch} | Elapsed Time : {round(elapsed_time, 1)}s | Training Loss : {train_loss:.4f} | Test Loss : {test_loss:.4f}\"\n",
    "    )\n",
    "    return {\"train_loss\":train_loss, \"test_loss\": test_loss}\n"
   ]
  },
  {
   "cell_type": "markdown",
   "metadata": {},
   "source": [
    "On définit également les données nécessaires à l'apprentissage"
   ]
  },
  {
   "cell_type": "code",
   "execution_count": null,
   "metadata": {},
   "outputs": [],
   "source": [
    "batch_size = 256\n",
    "train_dataloader = DataLoader(train_dataset, batch_size=batch_size)\n",
    "test_dataloader = DataLoader(train_dataset, batch_size=batch_size)"
   ]
  },
  {
   "cell_type": "markdown",
   "metadata": {},
   "source": [
    "Ensuite, nous pouvons lancer l'apprentissage des paramètres."
   ]
  },
  {
   "cell_type": "code",
   "execution_count": null,
   "metadata": {},
   "outputs": [],
   "source": [
    "epochs=20\n",
    "loss_fn = nn.CrossEntropyLoss()\n",
    "sgd_optimizer = optim.SGD(model.parameters(), lr=0.1, momentum=0.9, nesterov=True)\n",
    "for epoch in range(epochs):\n",
    "    model = train_loop(train_dataloader, test_dataloader, model, loss_fn, sgd_optimizer, epoch)"
   ]
  },
  {
   "cell_type": "markdown",
   "metadata": {},
   "source": []
  },
  {
   "cell_type": "markdown",
   "metadata": {},
   "source": [
    "Nous vous laissons analyser les résultats. Ce réseau de neurones est-il performant ?"
   ]
  },
  {
   "cell_type": "markdown",
   "metadata": {},
   "source": [
    "__A vous de jouer__ : essayez de créer un meilleur réseau de neurones, afin d'atteindre le meilleur résultat possible."
   ]
  },
  {
   "cell_type": "code",
   "execution_count": null,
   "metadata": {},
   "outputs": [],
   "source": [
    "# Créer un meilleur réseau de neurones, et l'entraîner\n",
    "# Objectif : avoir le meilleur résultat possible\n",
    "\n",
    "# Nous ne donnons pas la correction. Il y a plusieurs réponses possibles.\n",
    "# Vous pouvez par exemple ajouter des couches, modifier le nombre de neurones par couche et jouer sur le dropout."
   ]
  },
  {
   "cell_type": "markdown",
   "metadata": {},
   "source": [
    "Voyons ce que donne notre modèle sur un exemple."
   ]
  },
  {
   "cell_type": "code",
   "execution_count": null,
   "metadata": {},
   "outputs": [],
   "source": [
    "def plot_mnist_digit(image):\n",
    "    \"\"\" Plot a single MNIST image.\"\"\"\n",
    "    fig = plt.figure()\n",
    "    ax = fig.add_subplot(1, 1, 1)\n",
    "    ax.matshow(image, cmap = matplotlib.cm.binary)\n",
    "    plt.xticks(np.array([]))\n",
    "    plt.yticks(np.array([]))\n",
    "    plt.show()\n",
    "loss,acc = model.evaluate(X_test, y_test,  verbose=0)\n",
    "index=800\n",
    "print('The accuracy on the test set is ',(acc*100),'%')\n",
    "plot_mnist_digit(X_test_base[index])\n",
    "#cl=model.predict_classes(X_test[index].reshape((1,784)))\n",
    "cl = np.argmax(model.predict(X_test[index].reshape((1,784))), axis=-1)\n",
    "\n",
    "print(\"le chiffre reconnu est: \", cl[0])\n",
    "print(\"le chiffre à reconnaitre  est: \", np.argmax(y_test[index]))"
   ]
  },
  {
   "cell_type": "markdown",
   "metadata": {},
   "source": [
    "## CNN : réseaux de neurones convolutionnels"
   ]
  },
  {
   "cell_type": "markdown",
   "metadata": {},
   "source": [
    "Nous allons maintenant implémenter un réseau de neurones convolutionnel.\n",
    "\n",
    "Pour cet exercice, vous allez avoir besoin des méthodes Pytorch suivantes, en plus de celles déjà vues précédemment :\n",
    "\n",
    "Construisons notre premier réseau de neurones.\n",
    "\n",
    "* __nn.Conv2d__ : on ajoute une couche de convolution\n",
    "* __nn.MaxPool2d__ : fonction de max pooling qui permet de réduire la dimension des images d'entrée"
   ]
  },
  {
   "cell_type": "code",
   "execution_count": null,
   "metadata": {},
   "outputs": [],
   "source": [
    "# Définition du modèle\n",
    "class MyModel(nn.Module):\n",
    "    def __init__(self, input_shape, nb_classes):\n",
    "        super(MyModel, self).__init__()\n",
    "        # à compléter \n",
    "\n",
    "    def forward(self, x):\n",
    "        # à compléter \n",
    "\n",
    "        return x\n",
    "        \n",
    "# Instanciation du modèle\n",
    "model = MyModel()\n",
    "\n",
    "# affichage du résumé di modèle\n",
    "summary(model, imput_size=())"
   ]
  },
  {
   "cell_type": "code",
   "execution_count": null,
   "metadata": {
    "scrolled": true
   },
   "outputs": [],
   "source": [
    "batch_size = 256\n",
    "epochs=20\n",
    "model.fit(x_train, y_train, batch_size=batch_size, epochs=epochs,  verbose=1, validation_data=(x_test, y_test))"
   ]
  },
  {
   "cell_type": "code",
   "execution_count": null,
   "metadata": {},
   "outputs": [],
   "source": [
    "def plot_mnist_digit(image):\n",
    "    \"\"\" Plot a single MNIST image.\"\"\"\n",
    "    fig = plt.figure()\n",
    "    ax = fig.add_subplot(1, 1, 1)\n",
    "    ax.matshow(image, cmap = matplotlib.cm.binary)\n",
    "    plt.xticks(np.array([]))\n",
    "    plt.yticks(np.array([]))\n",
    "    plt.show()\n",
    "loss,acc = model.evaluate(x_test, y_test,  verbose=0)\n",
    "index=800\n",
    "print('The accuracy on the test set is ',(acc*100),'%')\n",
    "plot_mnist_digit(X_test_base[index])\n",
    "#cl=model.predict_classes(x_test[index].reshape((1,28,28,1)))\n",
    "cl = np.argmax(model.predict(X_test[index].reshape((1,28,28,1))), axis=-1)\n",
    "\n",
    "\n",
    "print(\"le chiffre reconnu est: \", cl[0])\n",
    "print(\"le chiffre à reconnaitre  est: \", np.argmax(y_test[index]))\n"
   ]
  },
  {
   "cell_type": "code",
   "execution_count": null,
   "metadata": {},
   "outputs": [],
   "source": [
    "# Créer un meilleur réseau de neurones convolutionnel, et l'entraîner\n",
    "# Objectif : avoir le meilleur résultat possible\n",
    "\n",
    "# Nous ne donnons pas la correction. Il y a plusieurs réponses possibles.\n",
    "# Vous pouvez par exemple ajouter des couches convolutionnelles et max_pooling,\n",
    "# modifier le nombre de convolutions ou leur taille et jouer sur le dropout."
   ]
  },
  {
   "cell_type": "markdown",
   "metadata": {},
   "source": [
    "## Bonus : Auto encodeur"
   ]
  },
  {
   "cell_type": "markdown",
   "metadata": {},
   "source": [
    "L'auto-encodeur est un réseau de neurones qui compresse puis décompresse l'information. On l'entraîne en lui demandant de retrouver en sortie la même image que celle qu'il avait en entrée. Ici, l'information en entrée est en dimension 784 (28x28), et l'auto-encodeur va la compresser en dimension 2."
   ]
  },
  {
   "cell_type": "code",
   "execution_count": null,
   "metadata": {},
   "outputs": [],
   "source": [
    "encoding_dim = 2\n",
    "\n",
    "model = Sequential()\n",
    "model.add(Dense(encoding_dim, input_shape=(784,),activation='relu'))\n",
    "\n",
    "model.add(Dense(784, activation='sigmoid'))\n",
    "\n",
    "# Définition du modèle\n",
    "class MyAutoencoder(nn.Module):\n",
    "    def __init__(self):\n",
    "        super(Autoencoder, self).__init__()\n",
    "        self.input_shape = (784,)\n",
    "\n",
    "        # Couche d'encodage\n",
    "        self.encoder = nn.Linear(input_shape, encoding_dim)\n",
    "        self.relu = nn.ReLU()\n",
    "\n",
    "        # Couche de décodage\n",
    "        self.decoder = nn.Linear(encoding_dim, input_shape)\n",
    "        self.sigmoid = nn.Sigmoid()\n",
    "\n",
    "    def forward(self, x):\n",
    "        # Encodage\n",
    "        x = self.relu(self.encoder(x))\n",
    "\n",
    "        # Décodage\n",
    "        x = self.sigmoid(self.decoder(x))\n",
    "\n",
    "        return x\n",
    "\n",
    "model= MyAutoencoder()\n",
    "\n",
    "model.summary()\n",
    "\n"
   ]
  },
  {
   "cell_type": "code",
   "execution_count": null,
   "metadata": {},
   "outputs": [],
   "source": []
  },
  {
   "cell_type": "code",
   "execution_count": null,
   "metadata": {},
   "outputs": [],
   "source": []
  },
  {
   "cell_type": "code",
   "execution_count": null,
   "metadata": {},
   "outputs": [],
   "source": [
    "decoded_imgs = model.predict(X_test)"
   ]
  },
  {
   "cell_type": "markdown",
   "metadata": {},
   "source": [
    "Affichons quelques images pour voir comment se comporte notre auto-encodeur."
   ]
  },
  {
   "cell_type": "code",
   "execution_count": null,
   "metadata": {},
   "outputs": [],
   "source": [
    "import matplotlib.pyplot as plt\n",
    "\n",
    "n = 10  # how many digits we will display\n",
    "plt.figure(figsize=(20, 4))\n",
    "for i in range(n):\n",
    "    # display original\n",
    "    ax = plt.subplot(2, n, i + 1)\n",
    "    plt.imshow(X_test[i].reshape(28, 28))\n",
    "    plt.gray()\n",
    "    ax.get_xaxis().set_visible(False)\n",
    "    ax.get_yaxis().set_visible(False)\n",
    "\n",
    "    # display reconstruction\n",
    "    ax = plt.subplot(2, n, i + 1 + n)\n",
    "    plt.imshow(decoded_imgs[i].reshape(28, 28))\n",
    "    plt.gray()\n",
    "    ax.get_xaxis().set_visible(False)\n",
    "    ax.get_yaxis().set_visible(False)\n",
    "plt.show()"
   ]
  },
  {
   "cell_type": "markdown",
   "metadata": {
    "collapsed": true
   },
   "source": [
    "__A vous de jouer__ : essayez d'améliorer l'auto-encodeur."
   ]
  },
  {
   "cell_type": "code",
   "execution_count": null,
   "metadata": {},
   "outputs": [],
   "source": [
    "## A COMPLETER\n",
    "\n",
    "# Nous ne donnons pas la correction. Il y a plusieurs réponses possibles.\n",
    "# Vous pouvez par exemple ajouter des couches ou modifier le nombre de neurones de la couche cachée."
   ]
  },
  {
   "cell_type": "code",
   "execution_count": null,
   "metadata": {},
   "outputs": [],
   "source": []
  }
 ],
 "metadata": {
  "kernelspec": {
   "display_name": "Python 3 (ipykernel)",
   "language": "python",
   "name": "python3"
  },
  "language_info": {
   "codemirror_mode": {
    "name": "ipython",
    "version": 3
   },
   "file_extension": ".py",
   "mimetype": "text/x-python",
   "name": "python",
   "nbconvert_exporter": "python",
   "pygments_lexer": "ipython3",
   "version": "3.9.13"
  }
 },
 "nbformat": 4,
 "nbformat_minor": 2
}
