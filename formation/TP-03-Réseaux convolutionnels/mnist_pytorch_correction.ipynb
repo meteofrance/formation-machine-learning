{
 "cells": [
  {
   "cell_type": "markdown",
   "metadata": {},
   "source": [
    "# MNIST en Deep Learning\n",
    "\n",
    "Dans ce TP, nous allons construire des algorithmes de Deep Learning pour tenter de reconnaître des chiffres manuscrits."
   ]
  },
  {
   "cell_type": "markdown",
   "metadata": {},
   "source": [
    "## Chargement des données et transformation"
   ]
  },
  {
   "cell_type": "markdown",
   "metadata": {},
   "source": [
    "Nous allons travailler sur la base de données MNIST qui contient 60000 images en niveaux de grille de résolution 28x28, représentant les 10 chiffres de 0 à 9, ainsi qu'un jeu de test de 10000 images. Tout d'abord, chargeons ce jeu de données."
   ]
  },
  {
   "cell_type": "code",
   "execution_count": 33,
   "metadata": {},
   "outputs": [],
   "source": [
    "from torchvision import datasets\n",
    "from torchvision.transforms import ToTensor\n",
    "import torch\n",
    "import torch.nn as nn\n",
    "import torch.optim as optim\n",
    "from torch.utils.data import DataLoader\n",
    "from torchinfo import summary\n",
    "from tqdm import tqdm\n",
    "\n",
    "import matplotlib\n",
    "import matplotlib.pyplot as plt\n",
    "import scipy\n",
    "import scipy.ndimage\n",
    "import time\n",
    "import numpy as np\n",
    "\n",
    "train_dataset = datasets.MNIST('../data', train=True, download=True, transform=ToTensor())\n",
    "#X_train_base, y_train_base = dataset_train.data.numpy(), dataset_train.target.numpy()\n",
    "\n",
    "test_dataset = datasets.MNIST('../data', train=False, download=True, transform=ToTensor())\n",
    "#X_test_base, y_test_base = dataset_test.data.numpy(), dataset_test.target.numpy()"
   ]
  },
  {
   "cell_type": "markdown",
   "metadata": {},
   "source": [
    "Créer un dataloader et visualiser des images"
   ]
  },
  {
   "cell_type": "code",
   "execution_count": 24,
   "metadata": {
    "scrolled": true
   },
   "outputs": [
    {
     "name": "stdout",
     "output_type": "stream",
     "text": [
      "BATCH INFO : input shape:  torch.Size([16, 1, 28, 28])  , labels shape:  torch.Size([16]) \n",
      "\n"
     ]
    },
    {
     "data": {
      "image/png": "[encoded data removed]",
      "text/plain": [
       "<Figure size 1200x300 with 5 Axes>"
      ]
     },
     "metadata": {},
     "output_type": "display_data"
    }
   ],
   "source": [
    "train_dataloader = DataLoader(train_dataset, batch_size=16)\n",
    "\n",
    "\n",
    "# Parcourez un batch dans le DataLoader\n",
    "for images, labels in train_dataloader:\n",
    "    print(\"BATCH INFO : input shape: \", images.shape, \" , labels shape: \", labels.shape, '\\n')\n",
    "    sample_images = images[:5]  # Les 5 premières images\n",
    "    sample_labels = labels[:5]  # Les 5 premières étiquettes\n",
    "    break  # On prend seulement le premier batch\n",
    "\n",
    "# Affichez les images et leurs étiquettes\n",
    "fig, axes = plt.subplots(1, 5, figsize=(12, 3))\n",
    "\n",
    "for i, ax in enumerate(axes):\n",
    "    ax.imshow(\n",
    "        sample_images[i].squeeze(), cmap=\"gray\"\n",
    "    )  # .squeeze() pour retirer la dimension du canal\n",
    "    ax.set_title(f\"Label: {sample_labels[i].item()}\")\n",
    "    ax.axis(\"off\")\n",
    "\n",
    "plt.tight_layout()\n",
    "plt.show()\n"
   ]
  },
  {
   "cell_type": "markdown",
   "metadata": {},
   "source": [
    "## Construire un premier réseau de neurones"
   ]
  },
  {
   "cell_type": "markdown",
   "metadata": {},
   "source": [
    "Construisons notre premier réseau de neurones.\n",
    "\n",
    "Pour cela, nous allons créer un modèle Pytorch en utilisant la classe nn.Module vu précedemment:\n",
    "* __model = Sequential()__\n",
    "\n",
    "Puis utiliser les méthodes suivantes de Pytroch pour ajouter des couches à ce modèle :\n",
    "\n",
    "* __nn.FLatten__ : on manipule des vecteurs et non des image, on passe de (28,28) -> (784,)\n",
    "* __nn.Linear__ : on ajoute une couche dense (ou linéaire)\n",
    "* __nn.Dropout__ : applique un dropout à la couche, pour éviter le surapprentissage\n",
    "* __nn.ReLU__ : fonction d'activation relu au coeur du réseau\n",
    "* __nn.Softmax__ : en sortie de réseau"
   ]
  },
  {
   "cell_type": "code",
   "execution_count": 99,
   "metadata": {},
   "outputs": [
    {
     "data": {
      "text/plain": [
       "==========================================================================================\n",
       "Layer (type:depth-idx)                   Output Shape              Param #\n",
       "==========================================================================================\n",
       "MyModel                                  [256, 10]                 --\n",
       "├─Flatten: 1-1                           [256, 784]                --\n",
       "├─Linear: 1-2                            [256, 12]                 9,420\n",
       "├─ReLU: 1-3                              [256, 12]                 --\n",
       "├─Linear: 1-4                            [256, 12]                 156\n",
       "├─ReLU: 1-5                              [256, 12]                 --\n",
       "├─Dropout: 1-6                           [256, 12]                 --\n",
       "├─Linear: 1-7                            [256, 10]                 130\n",
       "├─Softmax: 1-8                           [256, 10]                 --\n",
       "==========================================================================================\n",
       "Total params: 9,706\n",
       "Trainable params: 9,706\n",
       "Non-trainable params: 0\n",
       "Total mult-adds (Units.MEGABYTES): 2.48\n",
       "==========================================================================================\n",
       "Input size (MB): 0.80\n",
       "Forward/backward pass size (MB): 0.07\n",
       "Params size (MB): 0.04\n",
       "Estimated Total Size (MB): 0.91\n",
       "=========================================================================================="
      ]
     },
     "execution_count": 99,
     "metadata": {},
     "output_type": "execute_result"
    }
   ],
   "source": [
    "nb_classes = 10\n",
    "class MyModel(nn.Module):\n",
    "    def __init__(self):\n",
    "        super(MyModel, self).__init__()\n",
    "        self.flatten = nn.Flatten()\n",
    "        self.fc1 = nn.Linear(784, 12)  # Première couche dense avec 784 entrées et 12 sorties\n",
    "        self.fc2 = nn.Linear(12, 12)   # Deuxième couche dense avec 12 entrées et 12 sorties\n",
    "        self.fc3 = nn.Linear(12, nb_classes) # Troisième couche dense avec 12 entrées et nb_classes sorties\n",
    "        self.dropout = nn.Dropout(0.5) # Couche de dropout\n",
    "        self.relu = nn.ReLU()    # Fonction d'activation sigmoïde\n",
    "        self.softmax = nn.Softmax(dim=1) # Fonction d'activation softmax\n",
    "\n",
    "    def forward(self, x):\n",
    "        x = self.flatten(x)\n",
    "        x = self.relu(self.fc1(x)) # Activation sigmoid pour la première couche\n",
    "        x = self.relu(self.fc2(x)) # Activation sigmoid pour la deuxième couche\n",
    "        x = self.dropout(x)           # Dropout\n",
    "        x = self.softmax(self.fc3(x)) # Activation softmax pour la troisième couche\n",
    "        return x\n",
    "\n",
    "# Instanciation du modèle\n",
    "model = MyModel()\n",
    "\n",
    "# affichage du résumé du modèle\n",
    "summary(model, input_size=(1,1,28,28))  # input_size= (batch_size, channels, dim_x, dim_y)"
   ]
  },
  {
   "cell_type": "markdown",
   "metadata": {},
   "source": [
    " On commence par créer une boucle d'entrainement qui va faciliter l'apprentissage de notre modèle sur nos données."
   ]
  },
  {
   "cell_type": "code",
   "execution_count": 52,
   "metadata": {},
   "outputs": [],
   "source": [
    "# Défintion de la boucle d'entrainement\n",
    "def train_loop(\n",
    "    train_dataloader: torch.utils.data.DataLoader,\n",
    "    test_dataloader: torch.utils.data.DataLoader,\n",
    "    model: torch.nn.Module,\n",
    "    loss_fn,\n",
    "    optimizer,\n",
    "    epoch: int,\n",
    ")-> dict:\n",
    "    start_time = time.time()\n",
    "\n",
    "    # Apprentissage du modèle\n",
    "    model.train()  # Met le modèle en mode entraînement\n",
    "    train_loss, count = 0.0, 0\n",
    "    for X, y in tqdm(train_dataloader, desc=f\"Train epoch {epoch}\"):\n",
    "        # Prédiction du réseau de neurones\n",
    "        y_hat = model(X)  \n",
    "        # Calcul de l'erreur (y_hat, y)\n",
    "        loss = loss_fn(y_hat, y)  \n",
    "        # Backpropagation (MaJ des poids du réseau)\n",
    "        loss.backward()\n",
    "        optimizer.step()\n",
    "        optimizer.zero_grad()\n",
    "\n",
    "        train_loss += loss.item()\n",
    "        count += X.shape[0]\n",
    "    train_loss /= count\n",
    "\n",
    "    # Test du modèle\n",
    "    model.eval()\n",
    "    with torch.no_grad():\n",
    "        test_loss, count = 0.0, 0\n",
    "        for X, y in tqdm(test_dataloader, desc=f\"Test epoch {epoch}\"):\n",
    "            # Prédiction du réseau de neurones\n",
    "            y_hat = model(X)  \n",
    "            # Calcul de l'erreur (y_hat, y)\n",
    "            loss = loss_fn(y_hat, y)  \n",
    "            test_loss += loss.item()\n",
    "            count += X.shape[0]\n",
    "    test_loss /= count\n",
    "\n",
    "    elapsed_time = time.time() - start_time\n",
    "    print(\n",
    "        f\"Epoch {epoch} | Elapsed Time : {round(elapsed_time, 1)}s | Training Loss : {train_loss:.4f} | Test Loss : {test_loss:.4f}\"\n",
    "    )\n",
    "    return model\n"
   ]
  },
  {
   "cell_type": "markdown",
   "metadata": {},
   "source": [
    "On redéfinit également les données nécessaires à l'apprentissage et au test en créant un itérateur (ou __dataloader__)"
   ]
  },
  {
   "cell_type": "code",
   "execution_count": 53,
   "metadata": {},
   "outputs": [],
   "source": [
    "batch_size = 256\n",
    "train_dataloader = DataLoader(train_dataset, batch_size=batch_size, shuffle=True)\n",
    "test_dataloader = DataLoader(train_dataset, batch_size=batch_size)"
   ]
  },
  {
   "cell_type": "markdown",
   "metadata": {},
   "source": [
    "Ensuite, nous pouvons lancer l'apprentissage des paramètres."
   ]
  },
  {
   "cell_type": "code",
   "execution_count": 54,
   "metadata": {},
   "outputs": [
    {
     "name": "stderr",
     "output_type": "stream",
     "text": [
      "Train epoch 0: 100%|██████████████████████████| 235/235 [00:18<00:00, 12.77it/s]\n",
      "Test epoch 0: 100%|███████████████████████████| 235/235 [00:05<00:00, 44.85it/s]\n"
     ]
    },
    {
     "name": "stdout",
     "output_type": "stream",
     "text": [
      "Epoch 0 | Elapsed Time : 23.6s | Training Loss : 0.0074 | Test Loss : 0.0065\n"
     ]
    },
    {
     "name": "stderr",
     "output_type": "stream",
     "text": [
      "Train epoch 1: 100%|██████████████████████████| 235/235 [00:05<00:00, 42.83it/s]\n",
      "Test epoch 1: 100%|███████████████████████████| 235/235 [00:04<00:00, 47.61it/s]"
     ]
    },
    {
     "name": "stdout",
     "output_type": "stream",
     "text": [
      "Epoch 1 | Elapsed Time : 10.4s | Training Loss : 0.0072 | Test Loss : 0.0064\n"
     ]
    },
    {
     "name": "stderr",
     "output_type": "stream",
     "text": [
      "\n"
     ]
    }
   ],
   "source": [
    "epochs=2\n",
    "loss_fn = nn.CrossEntropyLoss()\n",
    "sgd_optimizer = optim.SGD(model.parameters(), lr=0.1, momentum=0.9, nesterov=True)\n",
    "for epoch in range(epochs):\n",
    "    model = train_loop(train_dataloader, test_dataloader, model, loss_fn, sgd_optimizer, epoch)"
   ]
  },
  {
   "cell_type": "markdown",
   "metadata": {},
   "source": [
    "Nous vous laissons analyser les résultats. Ce réseau de neurones est-il performant ?"
   ]
  },
  {
   "cell_type": "markdown",
   "metadata": {},
   "source": [
    "__A vous de jouer__ : essayez de créer un meilleur réseau de neurones, afin d'atteindre le meilleur résultat possible."
   ]
  },
  {
   "cell_type": "code",
   "execution_count": null,
   "metadata": {},
   "outputs": [],
   "source": [
    "# Créer un meilleur réseau de neurones, et l'entraîner\n",
    "# Objectif : avoir le meilleur résultat possible\n",
    "\n",
    "# Nous ne donnons pas la correction. Il y a plusieurs réponses possibles.\n",
    "# Vous pouvez par exemple ajouter des couches, modifier le nombre de neurones par couche et jouer sur le dropout."
   ]
  },
  {
   "cell_type": "markdown",
   "metadata": {},
   "source": [
    "Voyons ce que donne notre modèle sur un exemple."
   ]
  },
  {
   "cell_type": "code",
   "execution_count": null,
   "metadata": {},
   "outputs": [],
   "source": [
    "def plot_mnist_digit(image):\n",
    "    \"\"\" Plot a single MNIST image.\"\"\"\n",
    "    fig = plt.figure()\n",
    "    ax = fig.add_subplot(1, 1, 1)\n",
    "    ax.matshow(image, cmap = matplotlib.cm.binary)\n",
    "    plt.xticks(np.array([]))\n",
    "    plt.yticks(np.array([]))\n",
    "    plt.show()\n",
    "loss,acc = model.evaluate(X_test, y_test,  verbose=0)\n",
    "index=800\n",
    "print('The accuracy on the test set is ',(acc*100),'%')\n",
    "plot_mnist_digit(X_test_base[index])\n",
    "#cl=model.predict_classes(X_test[index].reshape((1,784)))\n",
    "cl = np.argmax(model.predict(X_test[index].reshape((1,784))), axis=-1)\n",
    "\n",
    "print(\"le chiffre reconnu est: \", cl[0])\n",
    "print(\"le chiffre à reconnaitre  est: \", np.argmax(y_test[index]))"
   ]
  },
  {
   "cell_type": "markdown",
   "metadata": {},
   "source": [
    "## CNN : réseaux de neurones convolutionnels"
   ]
  },
  {
   "cell_type": "markdown",
   "metadata": {},
   "source": [
    "Nous allons maintenant implémenter un réseau de neurones convolutionnel.\n",
    "\n",
    "Pour cet exercice, vous allez avoir besoin des méthodes Pytorch suivantes, en plus de celles déjà vues précédemment :\n",
    "\n",
    "Construisons notre premier réseau de neurones.\n",
    "\n",
    "* __nn.Conv2d__ : on ajoute une couche de convolution\n",
    "* __nn.MaxPool2d__ : fonction de max pooling qui permet de réduire la dimension des images d'entrée"
   ]
  },
  {
   "cell_type": "code",
   "execution_count": 100,
   "metadata": {},
   "outputs": [
    {
     "data": {
      "text/plain": [
       "==========================================================================================\n",
       "Layer (type:depth-idx)                   Output Shape              Param #\n",
       "==========================================================================================\n",
       "MyModel                                  [1, 10]                   110\n",
       "├─Conv2d: 1-1                            [1, 4, 26, 26]            40\n",
       "├─ReLU: 1-2                              [1, 4, 26, 26]            --\n",
       "├─MaxPool2d: 1-3                         [1, 4, 13, 13]            --\n",
       "├─Dropout2d: 1-4                         [1, 4, 13, 13]            --\n",
       "├─Flatten: 1-5                           [1, 676]                  --\n",
       "├─Linear: 1-6                            [1, 10]                   6,770\n",
       "├─ReLU: 1-7                              [1, 10]                   --\n",
       "├─Dropout: 1-8                           [1, 10]                   --\n",
       "==========================================================================================\n",
       "Total params: 6,920\n",
       "Trainable params: 6,920\n",
       "Non-trainable params: 0\n",
       "Total mult-adds (Units.MEGABYTES): 0.03\n",
       "==========================================================================================\n",
       "Input size (MB): 0.00\n",
       "Forward/backward pass size (MB): 0.02\n",
       "Params size (MB): 0.03\n",
       "Estimated Total Size (MB): 0.05\n",
       "=========================================================================================="
      ]
     },
     "execution_count": 100,
     "metadata": {},
     "output_type": "execute_result"
    }
   ],
   "source": [
    "input_shape = (1, 1, 28, 28)\n",
    "nb_classes = 10\n",
    "# Définition du modèle\n",
    "class MyModel(nn.Module):\n",
    "    def __init__(self):\n",
    "        super(MyModel, self).__init__()\n",
    "        self.conv1 = nn.Conv2d(in_channels=1, out_channels=4, kernel_size=(3, 3))\n",
    "        self.pool1 = nn.MaxPool2d(kernel_size=(2, 2))\n",
    "        self.dropout1 = nn.Dropout2d(0.25)\n",
    "        self.flatten = nn.Flatten()\n",
    "        self.fc1 = nn.Linear(4 * 13 * 13 , 10)\n",
    "        self.dropout2 = nn.Dropout(0.5)\n",
    "        self.fc2 = nn.Linear(10, nb_classes)\n",
    "        self.relu = nn.ReLU()\n",
    "\n",
    "    def forward(self, x):\n",
    "        x = self.relu(self.conv1(x))\n",
    "        x = self.pool1(x)\n",
    "        x = self.dropout1(x)\n",
    "        x = self.flatten(x)\n",
    "        x = self.relu(self.fc1(x))\n",
    "        x = self.dropout2(x)\n",
    "        #x = self.fc2(x)\n",
    "        return x\n",
    "        \n",
    "# Instanciation du modèle\n",
    "model = MyModel()\n",
    "\n",
    "# affichage du résumé du modèle\n",
    "batch_size = 256\n",
    "summary(model, input_size=(1,1,28,28))"
   ]
  },
  {
   "cell_type": "code",
   "execution_count": 101,
   "metadata": {},
   "outputs": [],
   "source": [
    "batch_size = 256\n",
    "train_dataloader = DataLoader(train_dataset, batch_size=batch_size, shuffle=True)\n",
    "test_dataloader = DataLoader(train_dataset, batch_size=batch_size)\n"
   ]
  },
  {
   "cell_type": "code",
   "execution_count": 102,
   "metadata": {
    "scrolled": true
   },
   "outputs": [
    {
     "name": "stderr",
     "output_type": "stream",
     "text": [
      "Train epoch 0: 100%|██████████████████████████| 235/235 [00:07<00:00, 30.36it/s]\n",
      "Test epoch 0: 100%|███████████████████████████| 235/235 [00:10<00:00, 21.67it/s]\n"
     ]
    },
    {
     "name": "stdout",
     "output_type": "stream",
     "text": [
      "Epoch 0 | Elapsed Time : 18.6s | Training Loss : 0.0091 | Test Loss : 0.0090\n"
     ]
    },
    {
     "name": "stderr",
     "output_type": "stream",
     "text": [
      "Train epoch 1: 100%|██████████████████████████| 235/235 [00:18<00:00, 12.84it/s]\n",
      "Test epoch 1: 100%|███████████████████████████| 235/235 [00:16<00:00, 14.35it/s]\n"
     ]
    },
    {
     "name": "stdout",
     "output_type": "stream",
     "text": [
      "Epoch 1 | Elapsed Time : 34.7s | Training Loss : 0.0091 | Test Loss : 0.0090\n"
     ]
    },
    {
     "name": "stderr",
     "output_type": "stream",
     "text": [
      "Train epoch 2: 100%|██████████████████████████| 235/235 [00:48<00:00,  4.81it/s]\n",
      "Test epoch 2: 100%|███████████████████████████| 235/235 [00:16<00:00, 13.87it/s]\n"
     ]
    },
    {
     "name": "stdout",
     "output_type": "stream",
     "text": [
      "Epoch 2 | Elapsed Time : 65.8s | Training Loss : 0.0091 | Test Loss : 0.0090\n"
     ]
    },
    {
     "name": "stderr",
     "output_type": "stream",
     "text": [
      "Train epoch 3: 100%|██████████████████████████| 235/235 [00:49<00:00,  4.77it/s]\n",
      "Test epoch 3: 100%|███████████████████████████| 235/235 [00:16<00:00, 14.36it/s]\n"
     ]
    },
    {
     "name": "stdout",
     "output_type": "stream",
     "text": [
      "Epoch 3 | Elapsed Time : 65.7s | Training Loss : 0.0091 | Test Loss : 0.0090\n"
     ]
    },
    {
     "name": "stderr",
     "output_type": "stream",
     "text": [
      "Train epoch 4: 100%|██████████████████████████| 235/235 [00:48<00:00,  4.80it/s]\n",
      "Test epoch 4: 100%|███████████████████████████| 235/235 [00:16<00:00, 14.30it/s]\n"
     ]
    },
    {
     "name": "stdout",
     "output_type": "stream",
     "text": [
      "Epoch 4 | Elapsed Time : 65.4s | Training Loss : 0.0091 | Test Loss : 0.0090\n"
     ]
    },
    {
     "name": "stderr",
     "output_type": "stream",
     "text": [
      "Train epoch 5: 100%|██████████████████████████| 235/235 [00:48<00:00,  4.85it/s]\n",
      "Test epoch 5: 100%|███████████████████████████| 235/235 [00:16<00:00, 14.30it/s]\n"
     ]
    },
    {
     "name": "stdout",
     "output_type": "stream",
     "text": [
      "Epoch 5 | Elapsed Time : 64.9s | Training Loss : 0.0091 | Test Loss : 0.0090\n"
     ]
    },
    {
     "name": "stderr",
     "output_type": "stream",
     "text": [
      "Train epoch 6: 100%|██████████████████████████| 235/235 [00:47<00:00,  4.94it/s]\n",
      "Test epoch 6: 100%|███████████████████████████| 235/235 [00:15<00:00, 15.48it/s]\n"
     ]
    },
    {
     "name": "stdout",
     "output_type": "stream",
     "text": [
      "Epoch 6 | Elapsed Time : 62.7s | Training Loss : 0.0091 | Test Loss : 0.0090\n"
     ]
    },
    {
     "name": "stderr",
     "output_type": "stream",
     "text": [
      "Train epoch 7: 100%|██████████████████████████| 235/235 [00:47<00:00,  4.96it/s]\n",
      "Test epoch 7: 100%|███████████████████████████| 235/235 [00:15<00:00, 15.53it/s]\n"
     ]
    },
    {
     "name": "stdout",
     "output_type": "stream",
     "text": [
      "Epoch 7 | Elapsed Time : 62.5s | Training Loss : 0.0091 | Test Loss : 0.0090\n"
     ]
    },
    {
     "name": "stderr",
     "output_type": "stream",
     "text": [
      "Train epoch 8: 100%|██████████████████████████| 235/235 [00:44<00:00,  5.23it/s]\n",
      "Test epoch 8: 100%|███████████████████████████| 235/235 [00:15<00:00, 14.82it/s]\n"
     ]
    },
    {
     "name": "stdout",
     "output_type": "stream",
     "text": [
      "Epoch 8 | Elapsed Time : 60.8s | Training Loss : 0.0091 | Test Loss : 0.0090\n"
     ]
    },
    {
     "name": "stderr",
     "output_type": "stream",
     "text": [
      "Train epoch 9: 100%|██████████████████████████| 235/235 [00:09<00:00, 24.73it/s]\n",
      "Test epoch 9: 100%|███████████████████████████| 235/235 [00:05<00:00, 40.67it/s]\n"
     ]
    },
    {
     "name": "stdout",
     "output_type": "stream",
     "text": [
      "Epoch 9 | Elapsed Time : 15.3s | Training Loss : 0.0091 | Test Loss : 0.0090\n"
     ]
    },
    {
     "name": "stderr",
     "output_type": "stream",
     "text": [
      "Train epoch 10: 100%|█████████████████████████| 235/235 [00:11<00:00, 20.72it/s]\n",
      "Test epoch 10: 100%|██████████████████████████| 235/235 [00:05<00:00, 42.15it/s]\n"
     ]
    },
    {
     "name": "stdout",
     "output_type": "stream",
     "text": [
      "Epoch 10 | Elapsed Time : 16.9s | Training Loss : 0.0091 | Test Loss : 0.0090\n"
     ]
    },
    {
     "name": "stderr",
     "output_type": "stream",
     "text": [
      "Train epoch 11: 100%|█████████████████████████| 235/235 [00:07<00:00, 32.70it/s]\n",
      "Test epoch 11: 100%|██████████████████████████| 235/235 [00:05<00:00, 39.49it/s]\n"
     ]
    },
    {
     "name": "stdout",
     "output_type": "stream",
     "text": [
      "Epoch 11 | Elapsed Time : 13.1s | Training Loss : 0.0091 | Test Loss : 0.0090\n"
     ]
    },
    {
     "name": "stderr",
     "output_type": "stream",
     "text": [
      "Train epoch 12: 100%|█████████████████████████| 235/235 [00:11<00:00, 20.81it/s]\n",
      "Test epoch 12: 100%|██████████████████████████| 235/235 [00:08<00:00, 27.96it/s]\n"
     ]
    },
    {
     "name": "stdout",
     "output_type": "stream",
     "text": [
      "Epoch 12 | Elapsed Time : 19.7s | Training Loss : 0.0091 | Test Loss : 0.0090\n"
     ]
    },
    {
     "name": "stderr",
     "output_type": "stream",
     "text": [
      "Train epoch 13: 100%|█████████████████████████| 235/235 [00:07<00:00, 33.57it/s]\n",
      "Test epoch 13: 100%|██████████████████████████| 235/235 [00:05<00:00, 43.74it/s]\n"
     ]
    },
    {
     "name": "stdout",
     "output_type": "stream",
     "text": [
      "Epoch 13 | Elapsed Time : 12.4s | Training Loss : 0.0091 | Test Loss : 0.0090\n"
     ]
    },
    {
     "name": "stderr",
     "output_type": "stream",
     "text": [
      "Train epoch 14: 100%|█████████████████████████| 235/235 [00:07<00:00, 30.73it/s]\n",
      "Test epoch 14: 100%|██████████████████████████| 235/235 [00:06<00:00, 35.96it/s]\n"
     ]
    },
    {
     "name": "stdout",
     "output_type": "stream",
     "text": [
      "Epoch 14 | Elapsed Time : 14.2s | Training Loss : 0.0091 | Test Loss : 0.0090\n"
     ]
    },
    {
     "name": "stderr",
     "output_type": "stream",
     "text": [
      "Train epoch 15: 100%|█████████████████████████| 235/235 [00:06<00:00, 33.94it/s]\n",
      "Test epoch 15: 100%|██████████████████████████| 235/235 [00:05<00:00, 41.12it/s]\n"
     ]
    },
    {
     "name": "stdout",
     "output_type": "stream",
     "text": [
      "Epoch 15 | Elapsed Time : 12.6s | Training Loss : 0.0091 | Test Loss : 0.0090\n"
     ]
    },
    {
     "name": "stderr",
     "output_type": "stream",
     "text": [
      "Train epoch 16: 100%|█████████████████████████| 235/235 [00:06<00:00, 36.13it/s]\n",
      "Test epoch 16: 100%|██████████████████████████| 235/235 [00:06<00:00, 38.51it/s]\n"
     ]
    },
    {
     "name": "stdout",
     "output_type": "stream",
     "text": [
      "Epoch 16 | Elapsed Time : 12.6s | Training Loss : 0.0091 | Test Loss : 0.0090\n"
     ]
    },
    {
     "name": "stderr",
     "output_type": "stream",
     "text": [
      "Train epoch 17: 100%|█████████████████████████| 235/235 [00:09<00:00, 24.44it/s]\n",
      "Test epoch 17: 100%|██████████████████████████| 235/235 [00:05<00:00, 43.61it/s]\n"
     ]
    },
    {
     "name": "stdout",
     "output_type": "stream",
     "text": [
      "Epoch 17 | Elapsed Time : 15.0s | Training Loss : 0.0091 | Test Loss : 0.0090\n"
     ]
    },
    {
     "name": "stderr",
     "output_type": "stream",
     "text": [
      "Train epoch 18: 100%|█████████████████████████| 235/235 [00:06<00:00, 35.37it/s]\n",
      "Test epoch 18: 100%|██████████████████████████| 235/235 [00:05<00:00, 41.32it/s]\n"
     ]
    },
    {
     "name": "stdout",
     "output_type": "stream",
     "text": [
      "Epoch 18 | Elapsed Time : 12.3s | Training Loss : 0.0091 | Test Loss : 0.0090\n"
     ]
    },
    {
     "name": "stderr",
     "output_type": "stream",
     "text": [
      "Train epoch 19: 100%|█████████████████████████| 235/235 [00:09<00:00, 24.41it/s]\n",
      "Test epoch 19: 100%|██████████████████████████| 235/235 [00:13<00:00, 16.90it/s]"
     ]
    },
    {
     "name": "stdout",
     "output_type": "stream",
     "text": [
      "Epoch 19 | Elapsed Time : 23.5s | Training Loss : 0.0091 | Test Loss : 0.0090\n"
     ]
    },
    {
     "name": "stderr",
     "output_type": "stream",
     "text": [
      "\n"
     ]
    }
   ],
   "source": [
    "epochs=20\n",
    "loss_fn = nn.CrossEntropyLoss()\n",
    "adam_optimizer = optim.Adam(model.parameters(), lr=0.001)\n",
    "for epoch in range(epochs):\n",
    "    model = train_loop(train_dataloader, test_dataloader, model, loss_fn, sgd_optimizer, epoch)"
   ]
  },
  {
   "cell_type": "code",
   "execution_count": null,
   "metadata": {},
   "outputs": [],
   "source": [
    "def plot_mnist_digit(image):\n",
    "    \"\"\" Plot a single MNIST image.\"\"\"\n",
    "    fig = plt.figure()\n",
    "    ax = fig.add_subplot(1, 1, 1)\n",
    "    ax.matshow(image, cmap = matplotlib.cm.binary)\n",
    "    plt.xticks(np.array([]))\n",
    "    plt.yticks(np.array([]))\n",
    "    plt.show()\n",
    "#loss,acc = model.evaluate(x_test, y_test,  verbose=0)\n",
    "#index=800\n",
    "#print('The accuracy on the test set is ',(acc*100),'%')\n",
    "#plot_mnist_digit(X_test_base[index])\n",
    "#cl=model.predict_classes(x_test[index].reshape((1,28,28,1)))\n",
    "#cl = np.argmax(model.predict(X_test[index].reshape((1,28,28,1))), axis=-1)\n",
    "\n",
    "\n",
    "print(\"le chiffre reconnu est: \", cl[0])\n",
    "print(\"le chiffre à reconnaitre  est: \", np.argmax(y_test[index]))\n"
   ]
  },
  {
   "cell_type": "code",
   "execution_count": null,
   "metadata": {},
   "outputs": [],
   "source": [
    "# Créer un meilleur réseau de neurones convolutionnel, et l'entraîner\n",
    "# Objectif : avoir le meilleur résultat possible\n",
    "\n",
    "# Nous ne donnons pas la correction. Il y a plusieurs réponses possibles.\n",
    "# Vous pouvez par exemple ajouter des couches convolutionnelles et max_pooling,\n",
    "# modifier le nombre de convolutions ou leur taille et jouer sur le dropout."
   ]
  },
  {
   "cell_type": "markdown",
   "metadata": {},
   "source": [
    "## Bonus : Auto encodeur"
   ]
  },
  {
   "cell_type": "markdown",
   "metadata": {},
   "source": [
    "L'auto-encodeur est un réseau de neurones qui compresse puis décompresse l'information. On l'entraîne en lui demandant de retrouver en sortie la même image que celle qu'il avait en entrée. Ici, l'information en entrée est en dimension 784 (28x28), et l'auto-encodeur va la compresser en dimension 2."
   ]
  },
  {
   "cell_type": "code",
   "execution_count": null,
   "metadata": {},
   "outputs": [],
   "source": [
    "encoding_dim = 2\n",
    "\n",
    "model = Sequential()\n",
    "model.add(Dense(encoding_dim, input_shape=(784,),activation='relu'))\n",
    "\n",
    "model.add(Dense(784, activation='sigmoid'))\n",
    "\n",
    "# Définition du modèle\n",
    "class MyAutoencoder(nn.Module):\n",
    "    def __init__(self):\n",
    "        super(Autoencoder, self).__init__()\n",
    "        slef.flatten()\n",
    "        # Couche d'encodage\n",
    "        self.encoder = nn.Linear(input_shape, encoding_dim)\n",
    "        self.relu = nn.ReLU()\n",
    "\n",
    "        # Couche de décodage\n",
    "        self.decoder = nn.Linear(encoding_dim, 784)\n",
    "        self.sigmoid = nn.Sigmoid()\n",
    "        \n",
    "\n",
    "    def forward(self, x):\n",
    "        # Encodage\n",
    "        x = self.relu(self.encoder(x))\n",
    "\n",
    "        # Décodage\n",
    "        x = self.sigmoid(self.decoder(x))\n",
    "\n",
    "        return x\n",
    "\n",
    "model= MyAutoencoder()\n",
    "\n",
    "model.summary()\n",
    "\n"
   ]
  },
  {
   "cell_type": "code",
   "execution_count": null,
   "metadata": {},
   "outputs": [],
   "source": []
  },
  {
   "cell_type": "code",
   "execution_count": null,
   "metadata": {},
   "outputs": [],
   "source": []
  },
  {
   "cell_type": "code",
   "execution_count": null,
   "metadata": {},
   "outputs": [],
   "source": [
    "decoded_imgs = model.predict(X_test)"
   ]
  },
  {
   "cell_type": "markdown",
   "metadata": {},
   "source": [
    "Affichons quelques images pour voir comment se comporte notre auto-encodeur."
   ]
  },
  {
   "cell_type": "code",
   "execution_count": null,
   "metadata": {},
   "outputs": [],
   "source": [
    "import matplotlib.pyplot as plt\n",
    "\n",
    "n = 10  # how many digits we will display\n",
    "plt.figure(figsize=(20, 4))\n",
    "for i in range(n):\n",
    "    # display original\n",
    "    ax = plt.subplot(2, n, i + 1)\n",
    "    plt.imshow(X_test[i].reshape(28, 28))\n",
    "    plt.gray()\n",
    "    ax.get_xaxis().set_visible(False)\n",
    "    ax.get_yaxis().set_visible(False)\n",
    "\n",
    "    # display reconstruction\n",
    "    ax = plt.subplot(2, n, i + 1 + n)\n",
    "    plt.imshow(decoded_imgs[i].reshape(28, 28))\n",
    "    plt.gray()\n",
    "    ax.get_xaxis().set_visible(False)\n",
    "    ax.get_yaxis().set_visible(False)\n",
    "plt.show()"
   ]
  },
  {
   "cell_type": "markdown",
   "metadata": {
    "collapsed": true,
    "jupyter": {
     "outputs_hidden": true
    }
   },
   "source": [
    "__A vous de jouer__ : essayez d'améliorer l'auto-encodeur."
   ]
  },
  {
   "cell_type": "code",
   "execution_count": null,
   "metadata": {},
   "outputs": [],
   "source": [
    "## A COMPLETER\n",
    "\n",
    "# Nous ne donnons pas la correction. Il y a plusieurs réponses possibles.\n",
    "# Vous pouvez par exemple ajouter des couches ou modifier le nombre de neurones de la couche cachée."
   ]
  },
  {
   "cell_type": "code",
   "execution_count": null,
   "metadata": {},
   "outputs": [],
   "source": []
  }
 ],
 "metadata": {
  "kernelspec": {
   "display_name": "Python 3 (ipykernel)",
   "language": "python",
   "name": "python3"
  },
  "language_info": {
   "codemirror_mode": {
    "name": "ipython",
    "version": 3
   },
   "file_extension": ".py",
   "mimetype": "text/x-python",
   "name": "python",
   "nbconvert_exporter": "python",
   "pygments_lexer": "ipython3",
   "version": "3.11.9"
  }
 },
 "nbformat": 4,
 "nbformat_minor": 4
}
