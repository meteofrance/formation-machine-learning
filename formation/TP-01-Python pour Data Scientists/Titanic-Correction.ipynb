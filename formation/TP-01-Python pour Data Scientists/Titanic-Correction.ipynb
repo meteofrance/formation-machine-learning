{
 "cells": [
  {
   "cell_type": "markdown",
   "metadata": {},
   "source": [
    "# Prédiction des survivants du Titanic"
   ]
  },
  {
   "cell_type": "code",
   "execution_count": null,
   "metadata": {},
   "outputs": [],
   "source": [
    "import pandas \n",
    "import matplotlib.pyplot as plt"
   ]
  },
  {
   "cell_type": "markdown",
   "metadata": {},
   "source": [
    "## Chargement des données\n"
   ]
  },
  {
   "cell_type": "code",
   "execution_count": null,
   "metadata": {},
   "outputs": [],
   "source": [
    "fichier_titanic = \"titanic/train.csv\""
   ]
  },
  {
   "cell_type": "markdown",
   "metadata": {},
   "source": [
    "Signification des coolonnes du jeu de données:\n",
    "- survival: \tSurvie (0 = No, 1 = Yes)\n",
    "- pclass: \tTicket class \t(1 = 1ère Cl., 2 = 2ème Cl., 3 = 3ème Cl.)\n",
    "- sex: \tSexe du passager \t\n",
    "- Age: \tAge en nombre d'années \t\n",
    "- sibsp: \tnombre de frères et soeurs avec leurs conjoints à bord\n",
    "- parch \tnombre de parents/enfants à bord \t\n",
    "- ticket: numéro de ticket \t\n",
    "- fare: \tprix du billet \t\n",
    "- cabin: \tnuméro de cabine \t\n",
    "- embarked: \tport d'embarcation (C = Cherbourg, Q = Queenstown, S = Southampton)"
   ]
  },
  {
   "cell_type": "code",
   "execution_count": null,
   "metadata": {},
   "outputs": [],
   "source": [
    "titanic = pandas.read_csv(fichier_titanic)\n",
    "titanic.head()"
   ]
  },
  {
   "cell_type": "markdown",
   "metadata": {},
   "source": [
    "# Description des données"
   ]
  },
  {
   "cell_type": "code",
   "execution_count": null,
   "metadata": {},
   "outputs": [],
   "source": [
    "titanic.info()"
   ]
  },
  {
   "cell_type": "code",
   "execution_count": null,
   "metadata": {},
   "outputs": [],
   "source": [
    "titanic.head()"
   ]
  },
  {
   "cell_type": "markdown",
   "metadata": {},
   "source": [
    "## Traitement des données"
   ]
  },
  {
   "cell_type": "code",
   "execution_count": null,
   "metadata": {},
   "outputs": [],
   "source": [
    "# mettre la colonne PassengerId en index\n",
    "# eliminer les colonnes Name, Ticket\n",
    "# creer une unique varible Family qui est la somme de SibSp Parch\n",
    "titanic.set_index('PassengerId', inplace=True)\n",
    "titanic.drop(columns=['Name', 'Ticket'], inplace=True)\n",
    "titanic['Family'] = titanic.SibSp + titanic.Parch\n",
    "titanic.drop(columns=['SibSp', 'Parch'], inplace=True)\n",
    "titanic"
   ]
  },
  {
   "cell_type": "markdown",
   "metadata": {},
   "source": [
    "### Données manquantes"
   ]
  },
  {
   "cell_type": "code",
   "execution_count": null,
   "metadata": {},
   "outputs": [],
   "source": [
    "# Assigner les ages manquants à la moyenne\n",
    "# Creer une nouvelle variable With_cabin égale à True si le passager possède un num de cabine, False sinon\n",
    "titanic.Age = titanic.Age.fillna(titanic.Age.mean())\n",
    "titanic['With_cabin'] = (titanic.Cabin.isna()==False)\n",
    "titanic.drop(columns='Cabin', inplace=True)\n",
    "titanic"
   ]
  },
  {
   "cell_type": "code",
   "execution_count": null,
   "metadata": {},
   "outputs": [],
   "source": [
    "titanic = pandas.get_dummies(titanic)\n",
    "titanic.head()"
   ]
  },
  {
   "cell_type": "code",
   "execution_count": null,
   "metadata": {},
   "outputs": [],
   "source": [
    "y = titanic.Survived\n",
    "X = titanic.drop(columns='Survived')"
   ]
  },
  {
   "cell_type": "markdown",
   "metadata": {},
   "source": [
    "## Modèles de machine learning"
   ]
  },
  {
   "cell_type": "code",
   "execution_count": null,
   "metadata": {},
   "outputs": [],
   "source": [
    "from  sklearn.ensemble import RandomForestClassifier\n",
    "from sklearn.neighbors import KNeighborsClassifier"
   ]
  },
  {
   "cell_type": "code",
   "execution_count": null,
   "metadata": {},
   "outputs": [],
   "source": [
    "RF = RandomForestClassifier(100, max_depth=10)\n",
    "KNN = KNeighborsClassifier(n_neighbors=10, n_jobs=-1)"
   ]
  },
  {
   "cell_type": "markdown",
   "metadata": {},
   "source": [
    "## Evalutation des modèles"
   ]
  },
  {
   "cell_type": "code",
   "execution_count": null,
   "metadata": {},
   "outputs": [],
   "source": [
    "from sklearn.model_selection import cross_validate"
   ]
  },
  {
   "cell_type": "markdown",
   "metadata": {},
   "source": [
    "- Cross-validation du random forest"
   ]
  },
  {
   "cell_type": "code",
   "execution_count": null,
   "metadata": {},
   "outputs": [],
   "source": [
    "RF_cv = cross_validate(RF, X, y, cv = 10)\n",
    "print(RF_cv['test_score'])\n",
    "print('\\nRandom forest : Accuracy en cross validation =', (RF_cv['test_score'].mean()*100).round(2), '%')"
   ]
  },
  {
   "cell_type": "markdown",
   "metadata": {},
   "source": [
    "- Cross-validation du KNN"
   ]
  },
  {
   "cell_type": "code",
   "execution_count": null,
   "metadata": {},
   "outputs": [],
   "source": [
    "KNN_cv = cross_validate(KNN, X, y, cv = 10)\n",
    "print(KNN_cv['test_score'])\n",
    "print('\\nK plus proche voisins : Accuracy en cross validation =', (KNN_cv['test_score'].mean()*100).round(2), '%')"
   ]
  },
  {
   "cell_type": "code",
   "execution_count": null,
   "metadata": {},
   "outputs": [],
   "source": [
    "for n in [2,5,10,15,20,30]:\n",
    "    KNN = KNeighborsClassifier(n_neighbors=n, n_jobs=-1)\n",
    "    KNN_cv = cross_validate(KNN, X, y, cv = 10)\n",
    "    print('Pour N =', n , ': Accuracy = ' ,(KNN_cv['test_score'].mean()*100).round(2), '%')"
   ]
  },
  {
   "cell_type": "code",
   "execution_count": null,
   "metadata": {},
   "outputs": [],
   "source": []
  }
 ],
 "metadata": {
  "kernelspec": {
   "display_name": "Python 3 (ipykernel)",
   "language": "python",
   "name": "python3"
  },
  "language_info": {
   "codemirror_mode": {
    "name": "ipython",
    "version": 3
   },
   "file_extension": ".py",
   "mimetype": "text/x-python",
   "name": "python",
   "nbconvert_exporter": "python",
   "pygments_lexer": "ipython3",
   "version": "3.9.13"
  }
 },
 "nbformat": 4,
 "nbformat_minor": 4
}
