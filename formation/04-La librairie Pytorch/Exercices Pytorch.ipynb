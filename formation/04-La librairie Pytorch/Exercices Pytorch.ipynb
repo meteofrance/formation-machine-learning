{
 "cells": [
  {
   "cell_type": "markdown",
   "id": "a46d0552-bb67-4cf0-8492-d6f36cd43307",
   "metadata": {},
   "source": [
    "# Prise en main de Pytorch"
   ]
  },
  {
   "cell_type": "code",
   "execution_count": null,
   "id": "fb91aaac-857d-4a3a-a32a-a2b074bc85b0",
   "metadata": {},
   "outputs": [],
   "source": [
    "import torch\n",
    "import torch.nn as nn\n",
    "from torchinfo import summary\n"
   ]
  },
  {
   "cell_type": "markdown",
   "id": "0a789fb6-31b8-47c9-b7dd-cfcb5c9b9c1d",
   "metadata": {},
   "source": [
    "\n",
    "- ( documentation Pytorch pour les couches linéaire, conv., activation, ect ...: https://docs.pytorch.org/docs/stable/nn.html )\n",
    "\n",
    "  \n",
    "------------------------\n",
    "![Exercice1](images/exo1.PNG)\n",
    "\n",
    "- Ecrivez le code Pytorch correspondant à ce réseau de neurones"
   ]
  },
  {
   "cell_type": "code",
   "execution_count": null,
   "id": "e2794d85-3ced-431b-8bdf-4d4aa19f8c8a",
   "metadata": {},
   "outputs": [],
   "source": [
    "\n",
    "class Exo1(nn.Module):\n",
    "    def __init__(self):\n",
    "        super(MyModel, self).__init__()\n",
    "        # à compléter\n",
    "\n",
    "    def forward(self, x):\n",
    "        # à compléter\n",
    "        return x\n",
    "\n",
    "# Instanciation du modèle\n",
    "model = Exo1()\n",
    "\n",
    "# affichage du résumé du modèle\n",
    "summary(model, input_size=(1,1,28,28))  # input_size= (batch_size, channels, dim_x, dim_y)"
   ]
  },
  {
   "cell_type": "markdown",
   "id": "70d0711c-1c13-4c92-a4f0-046e8462b18d",
   "metadata": {},
   "source": [
    "----------------------\n",
    "![Exercice2](images/exo2.PNG)\n",
    "\n",
    "- Ecrivez le code Pytorch correspondant à ce réseau de neurones"
   ]
  },
  {
   "cell_type": "code",
   "execution_count": null,
   "id": "b603c946-8506-43f6-874c-2519bb56d71f",
   "metadata": {},
   "outputs": [],
   "source": []
  },
  {
   "cell_type": "markdown",
   "id": "7734772a-84bc-439a-bb5e-c6085fe9c553",
   "metadata": {},
   "source": [
    "----------------------\n",
    "# __Exercice 3__\n",
    "Dessiner le schéma correspondant à ce code"
   ]
  },
  {
   "cell_type": "code",
   "execution_count": null,
   "id": "9c70d0c0-94db-4d7a-8637-5122ff75816b",
   "metadata": {},
   "outputs": [],
   "source": [
    "input_size = (1,1,128,128) # input_size= (batch_size, channels, dim_x, dim_y)\n",
    "class Exo3(nn.Module):\n",
    "    def __init__(self):\n",
    "        super(Exo3, self).__init__()\n",
    "        self.flatten = nn.Flatten()\n",
    "        self.relu = nn.ReLU()\n",
    "        self.soft = nn.Softmax()\n",
    "        self.dropout1 = nn.Dropout2d(0.25)\n",
    "        self.dropout2 = nn.Dropout2d(0.5)\n",
    "        self.conv1 = nn.Conv2d(1, 32, kernel_size=(3,3))  \n",
    "        self.conv2 = nn.Conv2d(32, 64, kernel_size=(3,3))   \n",
    "        self.pool = nn.MaxPool2d(kernel_size=(2, 2))       \n",
    "        self.fc1 = nn.Linear( 62 * 62 * 64 , 128)  # Pourquoi 62 * 62 * 64 ? Comment le retrouver en cas de \n",
    "        self.fc2 =  nn.Linear(128,10)\n",
    "        \n",
    "    def forward(self, x):\n",
    "        x = self.relu(self.conv1(x))\n",
    "        x = self.relu(self.conv2(x))\n",
    "        x = self.pool(x)\n",
    "        x = self.dropout1(x)\n",
    "        x = self.flatten(x)\n",
    "        x = self.relu(self.fc1(x))\n",
    "        x = self.dropout2(x)\n",
    "        x = self.soft(self.fc2(x))\n",
    "        return x\n",
    "\n",
    "# Instanciation du modèle\n",
    "model = Exo3()\n",
    "\n",
    "# affichage du résumé du modèle\n",
    "summary(model, input_size=input_size)  "
   ]
  },
  {
   "cell_type": "markdown",
   "id": "a9d10d85-1264-465a-b4ae-453188ce94d3",
   "metadata": {},
   "source": [
    "![Exercice4](images/exo4.PNG)\n",
    "\n",
    "- Ecrivez le code Pytorch correspondant à ce réseau de neurones"
   ]
  },
  {
   "cell_type": "code",
   "execution_count": null,
   "id": "41f82aba-0f56-444b-adc9-4e63c821bce0",
   "metadata": {},
   "outputs": [],
   "source": []
  }
 ],
 "metadata": {
  "kernelspec": {
   "display_name": "Python 3 (ipykernel)",
   "language": "python",
   "name": "python3"
  },
  "language_info": {
   "codemirror_mode": {
    "name": "ipython",
    "version": 3
   },
   "file_extension": ".py",
   "mimetype": "text/x-python",
   "name": "python",
   "nbconvert_exporter": "python",
   "pygments_lexer": "ipython3",
   "version": "3.11.9"
  }
 },
 "nbformat": 4,
 "nbformat_minor": 5
}
