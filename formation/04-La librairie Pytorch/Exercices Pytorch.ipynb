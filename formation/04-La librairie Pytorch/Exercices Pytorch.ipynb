{
 "cells": [
  {
   "cell_type": "markdown",
   "id": "a46d0552-bb67-4cf0-8492-d6f36cd43307",
   "metadata": {},
   "source": [
    "# Prise en main de Pytorch"
   ]
  },
  {
   "cell_type": "code",
   "execution_count": 3,
   "id": "fb91aaac-857d-4a3a-a32a-a2b074bc85b0",
   "metadata": {},
   "outputs": [],
   "source": [
    "import torch\n",
    "import torch.nn as nn\n",
    "from torchinfo import summary\n"
   ]
  },
  {
   "cell_type": "markdown",
   "id": "0a789fb6-31b8-47c9-b7dd-cfcb5c9b9c1d",
   "metadata": {},
   "source": [
    "\n",
    "- ( documentation Pytorch pour les couches linéaire, conv., activation, ect ...: https://docs.pytorch.org/docs/stable/nn.html )\n",
    "\n",
    "  \n",
    "------------------------\n",
    "![Exercice1](images/exo1.PNG)\n",
    "\n",
    "- Ecrivez le code Pytorch correspondant à ce réseau de neurones"
   ]
  },
  {
   "cell_type": "code",
   "execution_count": 7,
   "id": "e2794d85-3ced-431b-8bdf-4d4aa19f8c8a",
   "metadata": {},
   "outputs": [
    {
     "data": {
      "text/plain": [
       "==========================================================================================\n",
       "Layer (type:depth-idx)                   Output Shape              Param #\n",
       "==========================================================================================\n",
       "Exo1                                     [64, 1]                   --\n",
       "├─Linear: 1-1                            [64, 5]                   25\n",
       "├─ReLU: 1-2                              [64, 5]                   --\n",
       "├─Linear: 1-3                            [64, 1]                   6\n",
       "├─Sigmoid: 1-4                           [64, 1]                   --\n",
       "==========================================================================================\n",
       "Total params: 31\n",
       "Trainable params: 31\n",
       "Non-trainable params: 0\n",
       "Total mult-adds (Units.MEGABYTES): 0.00\n",
       "==========================================================================================\n",
       "Input size (MB): 0.00\n",
       "Forward/backward pass size (MB): 0.00\n",
       "Params size (MB): 0.00\n",
       "Estimated Total Size (MB): 0.00\n",
       "=========================================================================================="
      ]
     },
     "execution_count": 7,
     "metadata": {},
     "output_type": "execute_result"
    }
   ],
   "source": [
    "\n",
    "class Exo1(nn.Module):\n",
    "    def __init__(self):\n",
    "        super(Exo1, self).__init__()\n",
    "        self.fc1 = nn.Linear(4,5)\n",
    "        self.fc2 = nn.Linear(5,1)\n",
    "        self.relu = nn.ReLU()\n",
    "        self.sigmoid = nn.Sigmoid()\n",
    "\n",
    "    def forward(self, x):\n",
    "        x = self.fc1(x)\n",
    "        x = self.relu(x)\n",
    "        x = self.fc2(x)\n",
    "        x = self.sigmoid(x)\n",
    "        return x\n",
    "\n",
    "# Instanciation du modèle\n",
    "model = Exo1()\n",
    "# Instanciation du modèle\n",
    "model = Exo1()\n",
    "\n",
    "# affichage du résumé du modèle\n",
    "summary(model, input_size=(64,4))  # input_size= (batch_size, 4)"
   ]
  },
  {
   "cell_type": "markdown",
   "id": "70d0711c-1c13-4c92-a4f0-046e8462b18d",
   "metadata": {},
   "source": [
    "----------------------\n",
    "![Exercice2](images/exo2.PNG)\n",
    "\n",
    "- Ecrivez le code Pytorch correspondant à ce réseau de neurones"
   ]
  },
  {
   "cell_type": "code",
   "execution_count": 10,
   "id": "b603c946-8506-43f6-874c-2519bb56d71f",
   "metadata": {},
   "outputs": [
    {
     "data": {
      "text/plain": [
       "==========================================================================================\n",
       "Layer (type:depth-idx)                   Output Shape              Param #\n",
       "==========================================================================================\n",
       "Exo2                                     [1, 3]                    --\n",
       "├─Linear: 1-1                            [1, 4]                    20\n",
       "├─ReLU: 1-2                              [1, 4]                    --\n",
       "├─Linear: 1-3                            [1, 5]                    25\n",
       "├─ReLU: 1-4                              [1, 5]                    --\n",
       "├─Linear: 1-5                            [1, 6]                    36\n",
       "├─ReLU: 1-6                              [1, 6]                    --\n",
       "├─Linear: 1-7                            [1, 4]                    28\n",
       "├─ReLU: 1-8                              [1, 4]                    --\n",
       "├─Linear: 1-9                            [1, 3]                    15\n",
       "├─ReLU: 1-10                             [1, 3]                    --\n",
       "├─Linear: 1-11                           [1, 3]                    12\n",
       "├─Sigmoid: 1-12                          [1, 3]                    --\n",
       "==========================================================================================\n",
       "Total params: 136\n",
       "Trainable params: 136\n",
       "Non-trainable params: 0\n",
       "Total mult-adds (Units.MEGABYTES): 0.00\n",
       "==========================================================================================\n",
       "Input size (MB): 0.00\n",
       "Forward/backward pass size (MB): 0.00\n",
       "Params size (MB): 0.00\n",
       "Estimated Total Size (MB): 0.00\n",
       "=========================================================================================="
      ]
     },
     "execution_count": 10,
     "metadata": {},
     "output_type": "execute_result"
    }
   ],
   "source": [
    "class Exo2(nn.Module):\n",
    "    def __init__(self):\n",
    "        super(Exo2, self).__init__()\n",
    "        # couches avec des poids\n",
    "        self.fc1 = nn.Linear(4,4)\n",
    "        self.fc2 = nn.Linear(4,5)\n",
    "        self.fc3 = nn.Linear(5,6)\n",
    "        self.fc4 = nn.Linear(6,4)\n",
    "        self.fc5 = nn.Linear(4,3)\n",
    "        self.fc6 = nn.Linear(3,3)\n",
    "        # fonctions d'activation\n",
    "        self.relu = nn.ReLU()\n",
    "        self.sigmoid = nn.Sigmoid()\n",
    "\n",
    "    def forward(self, x):\n",
    "        x = self.relu(self.fc1(x))\n",
    "        x = self.relu(self.fc2(x))\n",
    "        x = self.relu(self.fc3(x))\n",
    "        x = self.relu(self.fc4(x))\n",
    "        x = self.relu(self.fc5(x))\n",
    "        x = self.sigmoid(self.fc6(x))\n",
    "        return x\n",
    "\n",
    "# Instanciation du modèle\n",
    "model = Exo2()\n",
    "\n",
    "# affichage du résumé du modèle\n",
    "summary(model, input_size=(1,4))  # input_size= (batch_size, input_dim)"
   ]
  },
  {
   "cell_type": "markdown",
   "id": "7734772a-84bc-439a-bb5e-c6085fe9c553",
   "metadata": {},
   "source": [
    "----------------------\n",
    "# __Exercice 3__\n",
    "Dessiner le schéma correspondant à ce code"
   ]
  },
  {
   "cell_type": "code",
   "execution_count": 15,
   "id": "9c70d0c0-94db-4d7a-8637-5122ff75816b",
   "metadata": {},
   "outputs": [
    {
     "data": {
      "text/plain": [
       "==========================================================================================\n",
       "Layer (type:depth-idx)                   Output Shape              Param #\n",
       "==========================================================================================\n",
       "Exo3                                     [32, 10]                  --\n",
       "├─Conv2d: 1-1                            [32, 32, 126, 126]        320\n",
       "├─ReLU: 1-2                              [32, 32, 126, 126]        --\n",
       "├─Conv2d: 1-3                            [32, 64, 124, 124]        18,496\n",
       "├─ReLU: 1-4                              [32, 64, 124, 124]        --\n",
       "├─MaxPool2d: 1-5                         [32, 64, 62, 62]          --\n",
       "├─Dropout2d: 1-6                         [32, 64, 62, 62]          --\n",
       "├─Flatten: 1-7                           [32, 246016]              --\n",
       "├─Linear: 1-8                            [32, 128]                 31,490,176\n",
       "├─ReLU: 1-9                              [32, 128]                 --\n",
       "├─Dropout2d: 1-10                        [32, 128]                 --\n",
       "├─Linear: 1-11                           [32, 10]                  1,290\n",
       "├─Softmax: 1-12                          [32, 10]                  --\n",
       "==========================================================================================\n",
       "Total params: 31,510,282\n",
       "Trainable params: 31,510,282\n",
       "Non-trainable params: 0\n",
       "Total mult-adds (Units.GIGABYTES): 10.27\n",
       "==========================================================================================\n",
       "Input size (MB): 2.10\n",
       "Forward/backward pass size (MB): 382.01\n",
       "Params size (MB): 126.04\n",
       "Estimated Total Size (MB): 510.15\n",
       "=========================================================================================="
      ]
     },
     "execution_count": 15,
     "metadata": {},
     "output_type": "execute_result"
    }
   ],
   "source": [
    "input_size = (32,1,128,128) # input_size= (batch_size, channels, dim_x, dim_y)\n",
    "class Exo3(nn.Module):\n",
    "    def __init__(self):\n",
    "        super(Exo3, self).__init__()\n",
    "        self.flatten = nn.Flatten()\n",
    "        self.relu = nn.ReLU()\n",
    "        self.soft = nn.Softmax()\n",
    "        self.dropout1 = nn.Dropout2d(0.25)\n",
    "        self.dropout2 = nn.Dropout2d(0.5)\n",
    "        self.conv1 = nn.Conv2d(1, 32, kernel_size=(3,3))  \n",
    "        self.conv2 = nn.Conv2d(32, 64, kernel_size=(3,3))   \n",
    "        self.pool = nn.MaxPool2d(kernel_size=(2, 2))       \n",
    "        self.fc1 = nn.Linear( 62 * 62 * 64 , 128)  # Pourquoi 62 * 62 * 64 ? Comment le retrouver en cas de \n",
    "        self.fc2 =  nn.Linear(128,10)\n",
    "        \n",
    "    def forward(self, x):\n",
    "        x = self.relu(self.conv1(x))\n",
    "        x = self.relu(self.conv2(x))\n",
    "        x = self.pool(x)\n",
    "        x = self.dropout1(x)\n",
    "        x = self.flatten(x)\n",
    "        x = self.relu(self.fc1(x))\n",
    "        x = self.dropout2(x)\n",
    "        x = self.soft(self.fc2(x))\n",
    "        return x\n",
    "\n",
    "# Instanciation du modèle\n",
    "model = Exo3()\n",
    "\n",
    "# affichage du résumé du modèle\n",
    "summary(model, input_size=input_size)  "
   ]
  },
  {
   "cell_type": "code",
   "execution_count": 13,
   "id": "7d3d75a3-a51a-4c4a-9c18-47e891abf461",
   "metadata": {},
   "outputs": [
    {
     "data": {
      "text/plain": [
       "18496"
      ]
     },
     "execution_count": 13,
     "metadata": {},
     "output_type": "execute_result"
    }
   ],
   "source": [
    "64*(32*3*3 + 1)\n"
   ]
  },
  {
   "cell_type": "markdown",
   "id": "a9d10d85-1264-465a-b4ae-453188ce94d3",
   "metadata": {},
   "source": [
    "![Exercice4](images/exo4.PNG)\n",
    "\n",
    "- Ecrivez le code Pytorch correspondant à ce réseau de neurones"
   ]
  },
  {
   "cell_type": "code",
   "execution_count": null,
   "id": "8603ce1d-7ec6-4208-8b6a-7cdb677d769b",
   "metadata": {},
   "outputs": [],
   "source": []
  },
  {
   "cell_type": "code",
   "execution_count": 32,
   "id": "41f82aba-0f56-444b-adc9-4e63c821bce0",
   "metadata": {},
   "outputs": [
    {
     "data": {
      "text/plain": [
       "==========================================================================================\n",
       "Layer (type:depth-idx)                   Output Shape              Param #\n",
       "==========================================================================================\n",
       "Exo4                                     [64, 1]                   --\n",
       "├─Conv2d: 1-1                            [64, 4, 28, 28]           104\n",
       "├─ReLU: 1-2                              [64, 4, 28, 28]           --\n",
       "├─MaxPool2d: 1-3                         [64, 4, 14, 14]           --\n",
       "├─Conv2d: 1-4                            [64, 16, 10, 10]          1,616\n",
       "├─ReLU: 1-5                              [64, 16, 10, 10]          --\n",
       "├─MaxPool2d: 1-6                         [64, 16, 5, 5]            --\n",
       "├─Flatten: 1-7                           [64, 400]                 --\n",
       "├─Linear: 1-8                            [64, 64]                  25,664\n",
       "├─ReLU: 1-9                              [64, 64]                  --\n",
       "├─Linear: 1-10                           [64, 1]                   65\n",
       "├─Sigmoid: 1-11                          [64, 1]                   --\n",
       "==========================================================================================\n",
       "Total params: 27,449\n",
       "Trainable params: 27,449\n",
       "Non-trainable params: 0\n",
       "Total mult-adds (Units.MEGABYTES): 17.21\n",
       "==========================================================================================\n",
       "Input size (MB): 0.26\n",
       "Forward/backward pass size (MB): 2.46\n",
       "Params size (MB): 0.11\n",
       "Estimated Total Size (MB): 2.83\n",
       "=========================================================================================="
      ]
     },
     "execution_count": 32,
     "metadata": {},
     "output_type": "execute_result"
    }
   ],
   "source": [
    "class Exo4(nn.Module):\n",
    "    def __init__(self):\n",
    "        super(Exo4, self).__init__()\n",
    "        # couches avec des poids\n",
    "        self.conv1 = nn.Conv2d(1,4, kernel_size=(5,5))  \n",
    "        self.conv2 = nn.Conv2d(4,16, kernel_size=(5,5))  \n",
    "        self.pool = nn.MaxPool2d(kernel_size=(2, 2))\n",
    "        self.fc1 = nn.Linear(16*5*5,64)\n",
    "        self.fc2 = nn.Linear(64,1)\n",
    "\n",
    "        self.flatten = nn.Flatten()\n",
    "\n",
    "        # fonctions d'activation\n",
    "        self.relu = nn.ReLU()\n",
    "        self.sigmoid = nn.Sigmoid()\n",
    "\n",
    "    def forward(self, x):\n",
    "        x = self.relu(self.conv1(x))\n",
    "        x = self.pool(x)\n",
    "        x = self.relu(self.conv2(x))\n",
    "        x = self.pool(x)\n",
    "        x = self.flatten(x)        \n",
    "        x = self.relu(self.fc1(x))\n",
    "        x = self.sigmoid(self.fc2(x))\n",
    "        return x\n",
    "\n",
    "# Instanciation du modèle\n",
    "model = Exo4()\n",
    "\n",
    "# affichage du résumé du modèle\n",
    "summary(model, input_size=(64,1,32,32))  # input_size= (batch_size, num_channels, H, W)"
   ]
  },
  {
   "cell_type": "code",
   "execution_count": null,
   "id": "2749d237-ef87-4d61-8f23-1fd7c957a2c6",
   "metadata": {},
   "outputs": [],
   "source": []
  }
 ],
 "metadata": {
  "kernelspec": {
   "display_name": "Python 3 (ipykernel)",
   "language": "python",
   "name": "python3"
  },
  "language_info": {
   "codemirror_mode": {
    "name": "ipython",
    "version": 3
   },
   "file_extension": ".py",
   "mimetype": "text/x-python",
   "name": "python",
   "nbconvert_exporter": "python",
   "pygments_lexer": "ipython3",
   "version": "3.11.9"
  }
 },
 "nbformat": 4,
 "nbformat_minor": 5
}
